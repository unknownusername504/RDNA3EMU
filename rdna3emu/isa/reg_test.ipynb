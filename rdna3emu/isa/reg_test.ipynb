{
 "cells": [
  {
   "cell_type": "code",
   "execution_count": 1,
   "metadata": {},
   "outputs": [],
   "source": [
    "%load_ext autoreload\n",
    "%autoreload 2\n",
    "\n",
    "import registers as reg"
   ]
  },
  {
   "cell_type": "code",
   "execution_count": 2,
   "metadata": {},
   "outputs": [],
   "source": [
    "registers = reg.Registers()"
   ]
  },
  {
   "cell_type": "code",
   "execution_count": 3,
   "metadata": {},
   "outputs": [
    {
     "name": "stderr",
     "output_type": "stream",
     "text": [
      "/Users/kevin/dev/RDNA3EMU/RDNA3ISA/registers.py:195: RuntimeWarning: overflow encountered in cast\n",
      "  return np.float16(val)\n"
     ]
    },
    {
     "data": {
      "text/plain": [
       "0"
      ]
     },
     "execution_count": 3,
     "metadata": {},
     "output_type": "execute_result"
    }
   ],
   "source": [
    "registers.vgpr_i8(0)\n",
    "registers.set_vgpr_i8(0, 0xFFFFFFFF)\n",
    "registers.vgpr_i8(0)\n",
    "\n",
    "registers.set_vgpr_i16(0, 0xFFFFFFFF)\n",
    "registers.vgpr_i16(0)\n",
    "\n",
    "registers.set_vgpr_i32(0, 0xFFFFFFFF)\n",
    "registers.vgpr_i32(0)\n",
    "\n",
    "registers.set_vgpr_u64(0, 0xFFFFFFFFFFFFFFFF)\n",
    "registers.vgpr_u64(0)\n",
    "\n",
    "# registers.vgpr_f32(0)\n",
    "registers.vgpr_f16(0)\n",
    "\n",
    "registers.exec\n",
    "registers.vcc\n"
   ]
  },
  {
   "cell_type": "code",
   "execution_count": null,
   "metadata": {},
   "outputs": [],
   "source": []
  }
 ],
 "metadata": {
  "kernelspec": {
   "display_name": "base",
   "language": "python",
   "name": "python3"
  },
  "language_info": {
   "codemirror_mode": {
    "name": "ipython",
    "version": 3
   },
   "file_extension": ".py",
   "mimetype": "text/x-python",
   "name": "python",
   "nbconvert_exporter": "python",
   "pygments_lexer": "ipython3",
   "version": "3.11.5"
  }
 },
 "nbformat": 4,
 "nbformat_minor": 2
}
